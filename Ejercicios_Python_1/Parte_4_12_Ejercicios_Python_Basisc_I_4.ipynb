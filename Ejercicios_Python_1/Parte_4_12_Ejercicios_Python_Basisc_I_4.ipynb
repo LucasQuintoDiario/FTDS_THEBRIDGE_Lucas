{
 "cells": [
  {
   "cell_type": "markdown",
   "metadata": {
    "id": "QpOuc1COtOUF"
   },
   "source": [
    "![TheBridge_logo_RGB_color.jpg](attachment:TheBridge_logo_RGB_color.jpg)"
   ]
  },
  {
   "cell_type": "markdown",
   "metadata": {
    "id": "iaEdyUvstOUK"
   },
   "source": [
    "![imagen](./img/ejercicios.png)"
   ]
  },
  {
   "cell_type": "markdown",
   "metadata": {
    "id": "AkRZkr1ztOUL"
   },
   "source": [
    "## EJERCICIOS PYTHON BASICO 4:\n",
    "## Funciones, métodos, listas"
   ]
  },
  {
   "cell_type": "markdown",
   "metadata": {
    "id": "O3F1SHdutOUL"
   },
   "source": [
    "Completa los siguiente ejercicios, la solución completa a los mismos se publicarán en el repo del curso a lo largo del sprint. En algunos ejercicios se muestra la solución final, para que puedas comprobar que lo has hecho bien, pero lo importante es el código que generes. ¡Vaaamos, a ello...!"
   ]
  },
  {
   "cell_type": "markdown",
   "metadata": {
    "id": "84UcCQ7FtOUM"
   },
   "source": [
    "![ejercicio.png](./img/ejercicio.png)\n",
    "\n",
    "## Ejercicio 1\n",
    "Para este ejercicio vamos a poner en práctica [las funciones built in](https://docs.python.org/3/library/functions.html).\n",
    "\n",
    "1. Calcula el máximo de la lista: [4, 6, 8, -1]\n",
    "2. Suma todos los elementos de la lista anterior\n",
    "3. Redondea este float a 3 dígitos decimales: 63.451256965\n",
    "4. Valor absoluto de: -74"
   ]
  },
  {
   "cell_type": "code",
   "execution_count": 1,
   "metadata": {
    "id": "gwM_Rs0JtOUN"
   },
   "outputs": [
    {
     "name": "stdout",
     "output_type": "stream",
     "text": [
      "8\n",
      "17\n",
      "63.451\n",
      "74\n"
     ]
    }
   ],
   "source": [
    "#1. Calcula el máximo de la lista: [4, 6, 8, -1]\n",
    "maximo = max([4, 6, 8, -1])\n",
    "print(maximo)\n",
    "#2. Suma todos los elementos de la lista anterior\n",
    "suma = sum([4, 6, 8, -1])\n",
    "print(suma)\n",
    "#3. Redondea este float a 3 dígitos decimales: 63.451256965\n",
    "redondeado = round(63.451256965, 3)\n",
    "print(redondeado)\n",
    "#4. Valor absoluto de: -74\n",
    "valor_absoluto = abs(-74)\n",
    "print(valor_absoluto)"
   ]
  },
  {
   "cell_type": "markdown",
   "metadata": {
    "id": "ShD4FVlztOUO"
   },
   "source": [
    "![ejercicio.png](./img/ejercicio.png)\n",
    "\n",
    "## Ejercicio 2\n",
    "Para el siguiente string se pide imprimir por pantalla los siguientes casos\n",
    "\n",
    "    \"En un lugar de la Mancha, de cuyo nombre no quiero acordarme.\"\n",
    "\n",
    "1. Pásalo todo a mayúsculas\n",
    "2. Pásalo todo a minúsculas\n",
    "3. Solo la primera letra de cada palabra en mayúscula, el resto en minúscula\n",
    "4. Crea una lista dividiéndolo por sus espacios\n",
    "5. Sustituye las comas `,` por puntos y comas `;`\n",
    "6. Elimina las `a` minúsculas"
   ]
  },
  {
   "cell_type": "code",
   "execution_count": 3,
   "metadata": {
    "id": "8OnT_QyFtOUP",
    "outputId": "394b75e6-ba18-4a88-e53f-22539f248d62"
   },
   "outputs": [
    {
     "name": "stdout",
     "output_type": "stream",
     "text": [
      "EN UN LUGAR DE LA MANCHA, DE CUYO NOMBRE NO QUIERO ACORDARME.\n",
      "en un lugar de la mancha, de cuyo nombre no quiero acordarme.\n",
      "En Un Lugar De La Mancha, De Cuyo Nombre No Quiero Acordarme.\n",
      "['En', 'un', 'lugar', 'de', 'la', 'Mancha,', 'de', 'cuyo', 'nombre', 'no', 'quiero', 'acordarme.']\n",
      "En un lugar de la Mancha; de cuyo nombre no quiero acordarme.\n",
      "En un lugr de l Mnch, de cuyo nombre no quiero cordrme.\n"
     ]
    }
   ],
   "source": [
    "texto = \"En un lugar de la Mancha, de cuyo nombre no quiero acordarme.\"\n",
    "\n",
    "print(texto.upper())\n",
    "\n",
    "print(texto.lower())\n",
    "\n",
    "print(texto.title())\n",
    "\n",
    "print(texto.split())\n",
    "\n",
    "print(texto.replace(\",\", \";\"))\n",
    "\n",
    "print(texto.replace(\"a\", \"\"))\n"
   ]
  },
  {
   "cell_type": "markdown",
   "metadata": {
    "id": "18rGpZRltOUQ"
   },
   "source": [
    "![ejercicio.png](./img/ejercicio.png)\n",
    "\n",
    "## Ejercicio 3\n",
    "1. Crea una lista con 3 elementos numéricos\n",
    "2. Añade un cuarto elemento\n",
    "3. Calcula la suma de todos\n",
    "4. Elimina el segundo elemento de la lista\n",
    "5. Añade otro elemento en la posicion 3 de la lista\n",
    "6. Crea otra lista con 4 elementos y concaténala a la que ya tenías.\n",
    "7. Ordena la lista de menor a mayor.\n",
    "8. BONUS: Ordena la lista de mayor a menor.  \n",
    "(*PISTA: Para hacer 8, tendrás que buscar en la información del método...*)  \n",
    "  \n",
    "  \n",
    "NOTA: Pinta por pantalla el resultado de cada paso."
   ]
  },
  {
   "cell_type": "code",
   "execution_count": 4,
   "metadata": {
    "id": "jS6Xm4YxtOUR",
    "outputId": "d67ce69e-e30c-4873-9536-b2c7b7689ef1"
   },
   "outputs": [
    {
     "name": "stdout",
     "output_type": "stream",
     "text": [
      "Suma de todos los elementos: 50\n",
      "Lista ordenada de menor a mayor: [5, 15, 20, 25, 30, 35, 40, 45]\n",
      "Lista ordenada de mayor a menor: [45, 40, 35, 30, 25, 20, 15, 5]\n"
     ]
    }
   ],
   "source": [
    "#1. Crear una lista con 3 elementos numéricos\n",
    "lista = [5, 10, 15]\n",
    "\n",
    "#2. Añadir un cuarto elemento\n",
    "lista.append(20)\n",
    "\n",
    "#3. Calcular la suma de todos\n",
    "suma = sum(lista)\n",
    "print(f\"Suma de todos los elementos: {suma}\")\n",
    "\n",
    "#4. Eliminar el segundo elemento de la lista\n",
    "del lista[1]\n",
    "\n",
    "#5. Añadir otro elemento en la posición 3\n",
    "lista.insert(3, 25)\n",
    "\n",
    "#6. Crear otra lista con 4 elementos y concatenarla a la existente\n",
    "otra_lista = [30, 35, 40, 45]\n",
    "lista.extend(otra_lista)\n",
    "\n",
    "#7. Ordenar la lista de menor a mayor\n",
    "lista.sort()\n",
    "print(f\"Lista ordenada de menor a mayor: {lista}\")\n",
    "\n",
    "#8. BONUS: Ordenar la lista de mayor a menor\n",
    "lista.sort(reverse=True)\n",
    "print(f\"Lista ordenada de mayor a menor: {lista}\")\n"
   ]
  }
 ],
 "metadata": {
  "colab": {
   "provenance": []
  },
  "kernelspec": {
   "display_name": "Python 3 (ipykernel)",
   "language": "python",
   "name": "python3"
  },
  "language_info": {
   "codemirror_mode": {
    "name": "ipython",
    "version": 3
   },
   "file_extension": ".py",
   "mimetype": "text/x-python",
   "name": "python",
   "nbconvert_exporter": "python",
   "pygments_lexer": "ipython3",
   "version": "3.12.7"
  }
 },
 "nbformat": 4,
 "nbformat_minor": 4
}
