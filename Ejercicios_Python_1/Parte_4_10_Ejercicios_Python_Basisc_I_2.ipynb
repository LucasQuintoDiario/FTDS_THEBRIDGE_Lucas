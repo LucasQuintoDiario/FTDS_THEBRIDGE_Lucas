{
 "cells": [
  {
   "cell_type": "markdown",
   "metadata": {
    "id": "GB2K42EgK9q5"
   },
   "source": [
    "![TheBridge_logo_RGB_color.jpg](attachment:TheBridge_logo_RGB_color.jpg)"
   ]
  },
  {
   "cell_type": "markdown",
   "metadata": {
    "id": "GnwVlO37K9q6"
   },
   "source": [
    "![imagen](./img/ejercicios.png)"
   ]
  },
  {
   "cell_type": "markdown",
   "metadata": {
    "id": "_9pTa0PXK9q6"
   },
   "source": [
    "## EJERCICIOS PYTHON BASICO 2:\n",
    "## Tipos y conversión de tipos"
   ]
  },
  {
   "cell_type": "markdown",
   "metadata": {
    "id": "tYmV-veoK9q6"
   },
   "source": [
    "Completa los siguiente ejercicios, la solución a los mismos se publicarán en el repo del curso a lo largo del sprint"
   ]
  },
  {
   "cell_type": "markdown",
   "metadata": {
    "id": "YAdFbIOXK9q7"
   },
   "source": [
    "![ejercicio.png](./img/ejercicio.png)\n",
    "\n",
    "## Ejercicio 1\n",
    "\n",
    "1. Crea dos variables numericas: un `int` y un `float`\n",
    "2. Comprueba sus tipos\n",
    "3. Sumalas en otra nueva\n",
    "4. ¿De qué tipo es la nueva variable?\n",
    "5. Elimina las dos primeras variables creadas"
   ]
  },
  {
   "cell_type": "code",
   "execution_count": 6,
   "metadata": {
    "id": "8QZmuLOsK9q7",
    "scrolled": true
   },
   "outputs": [
    {
     "name": "stdout",
     "output_type": "stream",
     "text": [
      "La primera variable es de tipo:  <class 'int'>\n",
      "La segunda variable es de tipo:  <class 'float'>\n",
      "La nueva variable es de tipo:  <class 'float'>\n"
     ]
    }
   ],
   "source": [
    "#Variable int:\n",
    "num_int = 24\n",
    "\n",
    "#Variable float\n",
    "num_float = 23.5\n",
    "\n",
    "#Comprobacion del tipo\n",
    "print(\"La primera variable es de tipo: \", type(num_int))\n",
    "print(\"La segunda variable es de tipo: \", type(num_float))\n",
    "\n",
    "#Suma nueva variable\n",
    "suma = num_int + num_float\n",
    "print(\"La nueva variable es de tipo: \", type(suma))\n",
    "\n",
    "#Borramos las primeras variables\n",
    "del num_int\n",
    "del num_float\n"
   ]
  },
  {
   "cell_type": "markdown",
   "metadata": {
    "id": "f5xfpkpQK9q7"
   },
   "source": [
    "![ejercicio.png](./img/ejercicio.png)\n",
    "\n",
    "## Ejercicio 2\n",
    "Escribe un programa para pasar de grados a radianes. Hay que usar `input`. Recuerda que la conversión se realiza mediante\n",
    "\n",
    "radianes = grados*(pi/180)"
   ]
  },
  {
   "cell_type": "code",
   "execution_count": 12,
   "metadata": {
    "id": "V50TUQMzK9q7"
   },
   "outputs": [
    {
     "name": "stdin",
     "output_type": "stream",
     "text": [
      "Ingresa el ángulo en grados:  80\n"
     ]
    },
    {
     "name": "stdout",
     "output_type": "stream",
     "text": [
      "80.0 grados equivalen a  1.3962634015954636  radianes\n"
     ]
    }
   ],
   "source": [
    "import math\n",
    "\n",
    "grados = float(input(\"Ingresa el ángulo en grados: \"))\n",
    "\n",
    "radianes = grados * (math.pi / 180)\n",
    "\n",
    "print(grados, \"grados equivalen a \",  radianes, \" radianes\")\n"
   ]
  },
  {
   "cell_type": "markdown",
   "metadata": {
    "id": "zX3-p58CK9q7"
   },
   "source": [
    "![ejercicio.png](./img/ejercicio.png)\n",
    "\n",
    "## Ejercicio 3\n",
    "Escribe un programa que calcule el area de un paralelogramo (base x altura). También con `input`"
   ]
  },
  {
   "cell_type": "code",
   "execution_count": 13,
   "metadata": {
    "id": "s2QfNiBAK9q7"
   },
   "outputs": [
    {
     "name": "stdin",
     "output_type": "stream",
     "text": [
      "Ingresa la base del paralelogramo:  5\n",
      "Ingresa la altura del paralelogramo:  4\n"
     ]
    },
    {
     "name": "stdout",
     "output_type": "stream",
     "text": [
      "El área del paralelogramo es:  20.0\n"
     ]
    }
   ],
   "source": [
    "base = float(input(\"Ingresa la base del paralelogramo: \"))\n",
    "\n",
    "altura = float(input(\"Ingresa la altura del paralelogramo: \"))\n",
    "\n",
    "area = base * altura\n",
    "\n",
    "print(\"El área del paralelogramo es: \",  area)\n"
   ]
  },
  {
   "cell_type": "markdown",
   "metadata": {
    "id": "-6TBo_HvK9q8"
   },
   "source": [
    "![ejercicio.png](./img/ejercicio.png)\n",
    "\n",
    "## Ejercicio 4\n",
    "Escribe un programa que calcule el area de un paralelogramo (base x altura). También con `input`. En este caso debe ser capaz de admitir valores reales, con decimales, para base y altura en español. (PISTA: Recuerda que tendrás que hacer uso del método replace)"
   ]
  },
  {
   "cell_type": "code",
   "execution_count": 14,
   "metadata": {
    "id": "uzUIa1JqK9q8"
   },
   "outputs": [
    {
     "name": "stdin",
     "output_type": "stream",
     "text": [
      "Ingresa la base del paralelogramo (usa coma para decimales):  5,3\n",
      "Ingresa la altura del paralelogramo (usa coma para decimales):  4,5\n"
     ]
    },
    {
     "name": "stdout",
     "output_type": "stream",
     "text": [
      "El área del paralelogramo es:  23.849999999999998\n"
     ]
    }
   ],
   "source": [
    "base = input(\"Ingresa la base del paralelogramo (usa coma para decimales): \")\n",
    "base = float(base.replace(\",\", \".\"))  # Convertir coma decimal a punto\n",
    "\n",
    "altura = input(\"Ingresa la altura del paralelogramo (usa coma para decimales): \")\n",
    "altura = float(altura.replace(\",\", \".\"))  # Convertir coma decimal a punto\n",
    "\n",
    "area = base * altura\n",
    "\n",
    "print(\"El área del paralelogramo es: \", area)\n"
   ]
  },
  {
   "cell_type": "markdown",
   "metadata": {
    "id": "5zKugi5iK9q8"
   },
   "source": [
    "![ejercicio.png](./img/ejercicio.png)\n",
    "\n",
    "## Ejercicio 5\n",
    "Complete el siguiente código para solicitar al usuario su nombre y su edad. Luego, calcule en qué año nació el usuario y muestre el resultado."
   ]
  },
  {
   "cell_type": "code",
   "execution_count": 20,
   "metadata": {
    "id": "LISfTnRkK9q8"
   },
   "outputs": [
    {
     "name": "stdin",
     "output_type": "stream",
     "text": [
      "¿Cuál es tu nombre?  Lucas\n",
      "¿Cuál es tu edad?  27\n"
     ]
    },
    {
     "name": "stdout",
     "output_type": "stream",
     "text": [
      "Lucas, naciste en el año 1997.\n"
     ]
    }
   ],
   "source": [
    "nombre = input(\"¿Cuál es tu nombre? \")\n",
    "edad = int(input(\"¿Cuál es tu edad? \"))\n",
    "año_actual = 2024  # Puedes cambiarlo según el año en curso\n",
    "año_nacimiento = año_actual - edad\n",
    "\n",
    "print(f\"{nombre}, naciste en el año {año_nacimiento}.\")\n"
   ]
  }
 ],
 "metadata": {
  "colab": {
   "provenance": []
  },
  "kernelspec": {
   "display_name": "Python 3 (ipykernel)",
   "language": "python",
   "name": "python3"
  },
  "language_info": {
   "codemirror_mode": {
    "name": "ipython",
    "version": 3
   },
   "file_extension": ".py",
   "mimetype": "text/x-python",
   "name": "python",
   "nbconvert_exporter": "python",
   "pygments_lexer": "ipython3",
   "version": "3.12.7"
  }
 },
 "nbformat": 4,
 "nbformat_minor": 4
}
