{
 "cells": [
  {
   "cell_type": "markdown",
   "metadata": {
    "id": "jJc2zqbNtI2L"
   },
   "source": [
    "![TheBridge_logo_RGB_color.jpg](attachment:TheBridge_logo_RGB_color.jpg)"
   ]
  },
  {
   "cell_type": "markdown",
   "metadata": {
    "id": "9PJKLdSOtI2Q"
   },
   "source": [
    "![imagen](./img/ejercicios.png)"
   ]
  },
  {
   "cell_type": "markdown",
   "metadata": {
    "id": "EajKXS_ltI2R"
   },
   "source": [
    "## EJERCICIOS PYTHON BASICO 3:\n",
    "## Operaciones matemáticas, comparación y booleanas"
   ]
  },
  {
   "cell_type": "markdown",
   "metadata": {
    "id": "1nff-2DFtI2S"
   },
   "source": [
    "Completa los siguiente ejercicios, la solución completa a los mismos se publicarán en el repo del curso a lo largo del sprint. En algunos ejercicios se muestra la solución final, para que puedas comprobar que lo has hecho bien, pero lo importante es el código que generes. ¡Vaaamos, a ello...!"
   ]
  },
  {
   "cell_type": "markdown",
   "metadata": {
    "id": "1gpM7Q2etI2S"
   },
   "source": [
    "![ejercicio.png](./img/ejercicio.png)\n",
    "\n",
    "\n",
    "## Ejercicio 1\n",
    "Tenemos las siguientes variables:\n",
    "\n",
    "```Python\n",
    "A = 4\n",
    "B = \"Text\"\n",
    "C = 4.1\n",
    "```\n",
    "\n",
    "Comprueba:\n",
    "1. Si A y B son equivalentes\n",
    "2. Si A y C NO son equivalentes\n",
    "3. Si A es mayor que C\n",
    "4. Si C es menor o igual que A\n",
    "5. Si B NO es equivalente a C"
   ]
  },
  {
   "cell_type": "code",
   "execution_count": 9,
   "metadata": {
    "id": "9KkDpS8gtI2T",
    "outputId": "1505cb47-3571-41bf-bab5-7dfbc0669231"
   },
   "outputs": [
    {
     "name": "stdout",
     "output_type": "stream",
     "text": [
      "1. False\n",
      "2. True\n",
      "3. False\n",
      "4. False\n",
      "5. True\n"
     ]
    }
   ],
   "source": [
    "A = 4\n",
    "B = \"Text\"\n",
    "C = 4.1\n",
    "\n",
    "print(\"1.\", A ==  B)\n",
    "if A == C:\n",
    "    print(\"2. False\")\n",
    "else:\n",
    "    print(\"2. True\")\n",
    "print (\"3.\", A > C)\n",
    "print (\"4.\", C <= A)\n",
    "print (\"5.\", B != C)\n"
   ]
  },
  {
   "cell_type": "markdown",
   "metadata": {
    "id": "CUaqef71tI2U"
   },
   "source": [
    "![ejercicio.png](./img/ejercicio.png)\n",
    "\n",
    "## Ejercicio 2\n",
    "Crea un programa donde se recojan dos inputs del usuario, y el output del programa sea si esos inputs son iguales o no"
   ]
  },
  {
   "cell_type": "code",
   "execution_count": 11,
   "metadata": {
    "id": "fvgaVtsftI2V"
   },
   "outputs": [
    {
     "name": "stdout",
     "output_type": "stream",
     "text": [
      "Comparador de inputs\n"
     ]
    },
    {
     "name": "stdin",
     "output_type": "stream",
     "text": [
      "Introduce el input 1:  4\n",
      "Introduce el input 2:  Lentejas\n"
     ]
    },
    {
     "name": "stdout",
     "output_type": "stream",
     "text": [
      "Los inputs son distintos\n"
     ]
    }
   ],
   "source": [
    "print(\"Comparador de inputs\")\n",
    "input_1 = input(\"Introduce el input 1: \")\n",
    "input_2 = input(\"Introduce el input 2: \")\n",
    "\n",
    "if input_1 == input_2:\n",
    "    print(\"Los inputs son iguales\")\n",
    "else:\n",
    "    print(\"Los inputs son distintos\")\n"
   ]
  },
  {
   "cell_type": "markdown",
   "metadata": {
    "id": "BPxFV65KtI2W"
   },
   "source": [
    "![ejercicio.png](./img/ejercicio.png)\n",
    "\n",
    "## Ejercicio 3\n",
    "Mismo programa que en 2, pero en esta ocasión tienen que ser tres inputs y dos salidas. Una de las salidas que nos indique si todos son iguales, y la otra si al menos dos inputs sí que lo son"
   ]
  },
  {
   "cell_type": "code",
   "execution_count": 15,
   "metadata": {
    "id": "7BYpyq3KtI2W",
    "outputId": "8dbe90d3-f76e-43eb-def5-be026b03c79b"
   },
   "outputs": [
    {
     "name": "stdout",
     "output_type": "stream",
     "text": [
      "Comparador de inputs\n"
     ]
    },
    {
     "name": "stdin",
     "output_type": "stream",
     "text": [
      "Introduce el input 1:  3\n",
      "Introduce el input 2:  Lenteja\n",
      "Introduce el input 3:  Lenteja\n"
     ]
    },
    {
     "name": "stdout",
     "output_type": "stream",
     "text": [
      "Al menos dos inputs son iguales\n"
     ]
    }
   ],
   "source": [
    "print(\"Comparador de inputs\")\n",
    "input_1 = input(\"Introduce el input 1: \")\n",
    "input_2 = input(\"Introduce el input 2: \")\n",
    "input_3 = input(\"Introduce el input 3: \")\n",
    "\n",
    "if input_1 == input_2 == input_3:\n",
    "    print(\"Todos los inputs son iguales\")\n",
    "elif input_1 == input_2 or input_1 == input_3 or input_2 == input_3:\n",
    "    print(\"Al menos dos inputs son iguales\")\n",
    "else:\n",
    "    print(\"Ningun input es igual\")"
   ]
  },
  {
   "cell_type": "markdown",
   "metadata": {
    "id": "445TzyNftI2W"
   },
   "source": [
    "![ejercicio.png](./img/ejercicio.png)\n",
    "\n",
    "## Ejercicio 4\n",
    "Razona sin ejecutar código el output que obtendremos de las siguientes sentencias\n",
    "1. True and True and False\n",
    "2. not ((True or False) and (True or False))\n",
    "3. (False or False or False or True) and False\n",
    "4. not False and True and not True"
   ]
  },
  {
   "cell_type": "markdown",
   "metadata": {},
   "source": [
    "1. Al usar el operador and y unos de los terminos false el output será false\n",
    "2. El primer termino en el parentesis es True pero al tener el not delante pasa a false por lo que el output es false\n",
    "3. El primer termino seria true pero al tener despuesun and False el output seria false\n",
    "4. Al ser el ultimo termino not true y estar construido con and el output seria false"
   ]
  }
 ],
 "metadata": {
  "colab": {
   "provenance": []
  },
  "kernelspec": {
   "display_name": "Python 3 (ipykernel)",
   "language": "python",
   "name": "python3"
  },
  "language_info": {
   "codemirror_mode": {
    "name": "ipython",
    "version": 3
   },
   "file_extension": ".py",
   "mimetype": "text/x-python",
   "name": "python",
   "nbconvert_exporter": "python",
   "pygments_lexer": "ipython3",
   "version": "3.12.7"
  }
 },
 "nbformat": 4,
 "nbformat_minor": 4
}
